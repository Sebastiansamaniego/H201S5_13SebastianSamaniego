{
  "cells": [
    {
      "cell_type": "markdown",
      "source": [
        "Credit card applications"
      ],
      "metadata": {
        "id": "7oeACKhFZE9H"
      },
      "id": "7oeACKhFZE9H"
    },
    {
      "cell_type": "markdown",
      "id": "fca9adc5",
      "metadata": {
        "id": "fca9adc5"
      },
      "source": [
        "**Credit card applications**\n"
      ]
    },
    {
      "cell_type": "code",
      "execution_count": null,
      "id": "65270716",
      "metadata": {
        "id": "65270716"
      },
      "outputs": [],
      "source": [
        "#Instalacion: pip install pandas\n",
        "import pandas as pd\n",
        "# Instalarnumpy:  pip install numpy\n",
        "import numpy as np\n",
        "#Instalacion sklearn: pip install -U scikit-learn\n",
        "from sklearn.model_selection import train_test_split\n",
        "#Instalacion preprocesing pip install preprocessing\n",
        "from sklearn.preprocessing import MinMaxScaler\n",
        "from sklearn.linear_model import LogisticRegression\n",
        "from sklearn.metrics import confusion_matrix\n",
        "from sklearn.model_selection import GridSearchCV"
      ]
    },
    {
      "cell_type": "code",
      "execution_count": null,
      "id": "1128d576",
      "metadata": {
        "colab": {
          "base_uri": "https://localhost:8080/",
          "height": 206
        },
        "id": "1128d576",
        "outputId": "4b345a3d-3020-4fe9-a51b-6a0e1dc06b3a"
      },
      "outputs": [
        {
          "output_type": "execute_result",
          "data": {
            "text/plain": [
              "  0      1     2  3  4  5  6     7  8  9   10  11  12   13   14  15\n",
              "0  0      1  2.00  3  4  5  6  7.00  8  9  10  11  12   13   12  15\n",
              "1  b  30.83  0.00  u  g  w  v  1.25  t  t   1   f   g  202    0   +\n",
              "2  a  58.67  4.46  u  g  q  h  3.04  t  t   6   f   g   43  560   +\n",
              "3  a   24.5  0.50  u  g  q  h  1.50  t  f   0   f   g  280  824   +\n",
              "4  b  27.83  1.54  u  g  w  v  3.75  t  t   5   t   g  100    3   +"
            ],
            "text/html": [
              "\n",
              "  <div id=\"df-b91625a9-77e5-4d8c-837a-f64412c20317\">\n",
              "    <div class=\"colab-df-container\">\n",
              "      <div>\n",
              "<style scoped>\n",
              "    .dataframe tbody tr th:only-of-type {\n",
              "        vertical-align: middle;\n",
              "    }\n",
              "\n",
              "    .dataframe tbody tr th {\n",
              "        vertical-align: top;\n",
              "    }\n",
              "\n",
              "    .dataframe thead th {\n",
              "        text-align: right;\n",
              "    }\n",
              "</style>\n",
              "<table border=\"1\" class=\"dataframe\">\n",
              "  <thead>\n",
              "    <tr style=\"text-align: right;\">\n",
              "      <th></th>\n",
              "      <th>0</th>\n",
              "      <th>1</th>\n",
              "      <th>2</th>\n",
              "      <th>3</th>\n",
              "      <th>4</th>\n",
              "      <th>5</th>\n",
              "      <th>6</th>\n",
              "      <th>7</th>\n",
              "      <th>8</th>\n",
              "      <th>9</th>\n",
              "      <th>10</th>\n",
              "      <th>11</th>\n",
              "      <th>12</th>\n",
              "      <th>13</th>\n",
              "      <th>14</th>\n",
              "      <th>15</th>\n",
              "    </tr>\n",
              "  </thead>\n",
              "  <tbody>\n",
              "    <tr>\n",
              "      <th>0</th>\n",
              "      <td>0</td>\n",
              "      <td>1</td>\n",
              "      <td>2.00</td>\n",
              "      <td>3</td>\n",
              "      <td>4</td>\n",
              "      <td>5</td>\n",
              "      <td>6</td>\n",
              "      <td>7.00</td>\n",
              "      <td>8</td>\n",
              "      <td>9</td>\n",
              "      <td>10</td>\n",
              "      <td>11</td>\n",
              "      <td>12</td>\n",
              "      <td>13</td>\n",
              "      <td>12</td>\n",
              "      <td>15</td>\n",
              "    </tr>\n",
              "    <tr>\n",
              "      <th>1</th>\n",
              "      <td>b</td>\n",
              "      <td>30.83</td>\n",
              "      <td>0.00</td>\n",
              "      <td>u</td>\n",
              "      <td>g</td>\n",
              "      <td>w</td>\n",
              "      <td>v</td>\n",
              "      <td>1.25</td>\n",
              "      <td>t</td>\n",
              "      <td>t</td>\n",
              "      <td>1</td>\n",
              "      <td>f</td>\n",
              "      <td>g</td>\n",
              "      <td>202</td>\n",
              "      <td>0</td>\n",
              "      <td>+</td>\n",
              "    </tr>\n",
              "    <tr>\n",
              "      <th>2</th>\n",
              "      <td>a</td>\n",
              "      <td>58.67</td>\n",
              "      <td>4.46</td>\n",
              "      <td>u</td>\n",
              "      <td>g</td>\n",
              "      <td>q</td>\n",
              "      <td>h</td>\n",
              "      <td>3.04</td>\n",
              "      <td>t</td>\n",
              "      <td>t</td>\n",
              "      <td>6</td>\n",
              "      <td>f</td>\n",
              "      <td>g</td>\n",
              "      <td>43</td>\n",
              "      <td>560</td>\n",
              "      <td>+</td>\n",
              "    </tr>\n",
              "    <tr>\n",
              "      <th>3</th>\n",
              "      <td>a</td>\n",
              "      <td>24.5</td>\n",
              "      <td>0.50</td>\n",
              "      <td>u</td>\n",
              "      <td>g</td>\n",
              "      <td>q</td>\n",
              "      <td>h</td>\n",
              "      <td>1.50</td>\n",
              "      <td>t</td>\n",
              "      <td>f</td>\n",
              "      <td>0</td>\n",
              "      <td>f</td>\n",
              "      <td>g</td>\n",
              "      <td>280</td>\n",
              "      <td>824</td>\n",
              "      <td>+</td>\n",
              "    </tr>\n",
              "    <tr>\n",
              "      <th>4</th>\n",
              "      <td>b</td>\n",
              "      <td>27.83</td>\n",
              "      <td>1.54</td>\n",
              "      <td>u</td>\n",
              "      <td>g</td>\n",
              "      <td>w</td>\n",
              "      <td>v</td>\n",
              "      <td>3.75</td>\n",
              "      <td>t</td>\n",
              "      <td>t</td>\n",
              "      <td>5</td>\n",
              "      <td>t</td>\n",
              "      <td>g</td>\n",
              "      <td>100</td>\n",
              "      <td>3</td>\n",
              "      <td>+</td>\n",
              "    </tr>\n",
              "  </tbody>\n",
              "</table>\n",
              "</div>\n",
              "      <button class=\"colab-df-convert\" onclick=\"convertToInteractive('df-b91625a9-77e5-4d8c-837a-f64412c20317')\"\n",
              "              title=\"Convert this dataframe to an interactive table.\"\n",
              "              style=\"display:none;\">\n",
              "        \n",
              "  <svg xmlns=\"http://www.w3.org/2000/svg\" height=\"24px\"viewBox=\"0 0 24 24\"\n",
              "       width=\"24px\">\n",
              "    <path d=\"M0 0h24v24H0V0z\" fill=\"none\"/>\n",
              "    <path d=\"M18.56 5.44l.94 2.06.94-2.06 2.06-.94-2.06-.94-.94-2.06-.94 2.06-2.06.94zm-11 1L8.5 8.5l.94-2.06 2.06-.94-2.06-.94L8.5 2.5l-.94 2.06-2.06.94zm10 10l.94 2.06.94-2.06 2.06-.94-2.06-.94-.94-2.06-.94 2.06-2.06.94z\"/><path d=\"M17.41 7.96l-1.37-1.37c-.4-.4-.92-.59-1.43-.59-.52 0-1.04.2-1.43.59L10.3 9.45l-7.72 7.72c-.78.78-.78 2.05 0 2.83L4 21.41c.39.39.9.59 1.41.59.51 0 1.02-.2 1.41-.59l7.78-7.78 2.81-2.81c.8-.78.8-2.07 0-2.86zM5.41 20L4 18.59l7.72-7.72 1.47 1.35L5.41 20z\"/>\n",
              "  </svg>\n",
              "      </button>\n",
              "      \n",
              "  <style>\n",
              "    .colab-df-container {\n",
              "      display:flex;\n",
              "      flex-wrap:wrap;\n",
              "      gap: 12px;\n",
              "    }\n",
              "\n",
              "    .colab-df-convert {\n",
              "      background-color: #E8F0FE;\n",
              "      border: none;\n",
              "      border-radius: 50%;\n",
              "      cursor: pointer;\n",
              "      display: none;\n",
              "      fill: #1967D2;\n",
              "      height: 32px;\n",
              "      padding: 0 0 0 0;\n",
              "      width: 32px;\n",
              "    }\n",
              "\n",
              "    .colab-df-convert:hover {\n",
              "      background-color: #E2EBFA;\n",
              "      box-shadow: 0px 1px 2px rgba(60, 64, 67, 0.3), 0px 1px 3px 1px rgba(60, 64, 67, 0.15);\n",
              "      fill: #174EA6;\n",
              "    }\n",
              "\n",
              "    [theme=dark] .colab-df-convert {\n",
              "      background-color: #3B4455;\n",
              "      fill: #D2E3FC;\n",
              "    }\n",
              "\n",
              "    [theme=dark] .colab-df-convert:hover {\n",
              "      background-color: #434B5C;\n",
              "      box-shadow: 0px 1px 3px 1px rgba(0, 0, 0, 0.15);\n",
              "      filter: drop-shadow(0px 1px 2px rgba(0, 0, 0, 0.3));\n",
              "      fill: #FFFFFF;\n",
              "    }\n",
              "  </style>\n",
              "\n",
              "      <script>\n",
              "        const buttonEl =\n",
              "          document.querySelector('#df-b91625a9-77e5-4d8c-837a-f64412c20317 button.colab-df-convert');\n",
              "        buttonEl.style.display =\n",
              "          google.colab.kernel.accessAllowed ? 'block' : 'none';\n",
              "\n",
              "        async function convertToInteractive(key) {\n",
              "          const element = document.querySelector('#df-b91625a9-77e5-4d8c-837a-f64412c20317');\n",
              "          const dataTable =\n",
              "            await google.colab.kernel.invokeFunction('convertToInteractive',\n",
              "                                                     [key], {});\n",
              "          if (!dataTable) return;\n",
              "\n",
              "          const docLinkHtml = 'Like what you see? Visit the ' +\n",
              "            '<a target=\"_blank\" href=https://colab.research.google.com/notebooks/data_table.ipynb>data table notebook</a>'\n",
              "            + ' to learn more about interactive tables.';\n",
              "          element.innerHTML = '';\n",
              "          dataTable['output_type'] = 'display_data';\n",
              "          await google.colab.output.renderOutput(dataTable, element);\n",
              "          const docLink = document.createElement('div');\n",
              "          docLink.innerHTML = docLinkHtml;\n",
              "          element.appendChild(docLink);\n",
              "        }\n",
              "      </script>\n",
              "    </div>\n",
              "  </div>\n",
              "  "
            ]
          },
          "metadata": {},
          "execution_count": 3
        }
      ],
      "source": [
        "# Cargamos datos\n",
        "data = pd.read_csv('https://docs.google.com/spreadsheets/d/e/2PACX-1vSj7lgOxHgQThPWlh2WFKk1mJVL2OV-rN_ibZbj2nkL-6HzP_kahQQ-3SA-KDB5X9lvh3GVxApWo1wZ/pub?output=csv', header=None)\n",
        "\n",
        "# Inspect data\n",
        "data.head()"
      ]
    },
    {
      "cell_type": "code",
      "execution_count": null,
      "id": "d932fa7a",
      "metadata": {
        "id": "d932fa7a",
        "outputId": "69c9c38a-a536-4701-ae02-cdb4df7a0aae"
      },
      "outputs": [
        {
          "name": "stdout",
          "output_type": "stream",
          "text": [
            "               2           7          10             14\n",
            "count  690.000000  690.000000  690.00000     690.000000\n",
            "mean     4.758725    2.223406    2.40000    1017.385507\n",
            "std      4.978163    3.346513    4.86294    5210.102598\n",
            "min      0.000000    0.000000    0.00000       0.000000\n",
            "25%      1.000000    0.165000    0.00000       0.000000\n",
            "50%      2.750000    1.000000    0.00000       5.000000\n",
            "75%      7.207500    2.625000    3.00000     395.500000\n",
            "max     28.000000   28.500000   67.00000  100000.000000\n"
          ]
        }
      ],
      "source": [
        "#Describimos los datos\n",
        "dataDesc = data.describe()\n",
        "print(dataDesc)"
      ]
    },
    {
      "cell_type": "markdown",
      "id": "6d29c58e",
      "metadata": {
        "id": "6d29c58e"
      },
      "source": [
        "# Preparamos el modelo"
      ]
    },
    {
      "cell_type": "code",
      "execution_count": null,
      "id": "bb452f82",
      "metadata": {
        "id": "bb452f82"
      },
      "outputs": [],
      "source": [
        "from sklearn.preprocessing import LabelEncoder\n",
        "\n",
        "# Instanciamos LabelEncoder\n",
        "le = LabelEncoder()\n",
        "\n",
        "# Recorremos todos los valores de cada columna y extraemos su tipo de dato\n",
        "for col in data.columns:\n",
        "    # Chequeamos si la columna es de tipo 'object'\n",
        "    if data[col].dtypes == 'object':\n",
        "    # Usamos LabelEncoder para realizar la transformación numérica\n",
        "        data[col]=le.fit_transform(data[col])"
      ]
    },
    {
      "cell_type": "code",
      "execution_count": null,
      "id": "ad6d1504",
      "metadata": {
        "id": "ad6d1504"
      },
      "outputs": [],
      "source": [
        "# Eliminamos la columna 11 y 13\n",
        "data = data.drop([11, 13], axis=1)\n",
        "data = data.to_numpy()\n",
        "\n",
        "# Separamos características y etiquetas en variables distintas\n",
        "X, y = data[:,0:12] , data[:,13]\n",
        "\n",
        "# Dividimos el dataset en conjuntos de entrenamiento y prueba\n",
        "X_train, X_test, y_train, y_test = train_test_split(X, y, test_size=0.33, random_state=42)"
      ]
    },
    {
      "cell_type": "code",
      "execution_count": null,
      "id": "9501fa10",
      "metadata": {
        "id": "9501fa10"
      },
      "outputs": [],
      "source": [
        "# Visualizamos histogramas de cada columna\n",
        "#data.hist()\n",
        "#plt.show()"
      ]
    },
    {
      "cell_type": "markdown",
      "id": "0636232a",
      "metadata": {
        "id": "0636232a"
      },
      "source": [
        "# Entrenamos el modelo"
      ]
    },
    {
      "cell_type": "code",
      "execution_count": null,
      "id": "c4d26b4d",
      "metadata": {
        "id": "c4d26b4d"
      },
      "outputs": [],
      "source": [
        "# Instanciamos MinMaxScaler y lo utilizamos para escalar X_train y X_test\n",
        "scaler = MinMaxScaler(feature_range=(0, 1))\n",
        "rescaledX_train = scaler.fit_transform(X_train)\n",
        "rescaledX_test = scaler.fit_transform(X_test)"
      ]
    },
    {
      "cell_type": "code",
      "execution_count": null,
      "id": "9956c845",
      "metadata": {
        "colab": {
          "base_uri": "https://localhost:8080/"
        },
        "id": "9956c845",
        "outputId": "bc289df1-327c-4a49-f703-439afef77619"
      },
      "outputs": [
        {
          "output_type": "execute_result",
          "data": {
            "text/plain": [
              "LogisticRegression()"
            ]
          },
          "metadata": {},
          "execution_count": 8
        }
      ],
      "source": [
        "# Instanciamos el clasificador LogisticRegression con sus parámetros por defecto\n",
        "logreg = LogisticRegression()\n",
        "\n",
        "# Entrenamos logreg con los datos escalados\n",
        "logreg.fit(rescaledX_train, y_train)\n",
        "LogisticRegression()"
      ]
    },
    {
      "cell_type": "markdown",
      "id": "de332eac",
      "metadata": {
        "id": "de332eac"
      },
      "source": [
        "# Haciendo Metricas"
      ]
    },
    {
      "cell_type": "code",
      "execution_count": null,
      "id": "3ebadf0a",
      "metadata": {
        "colab": {
          "base_uri": "https://localhost:8080/"
        },
        "id": "3ebadf0a",
        "outputId": "0534b123-27e5-48f9-803b-deea2ace7e8b"
      },
      "outputs": [
        {
          "output_type": "stream",
          "name": "stdout",
          "text": [
            "Accuracy:  0.8122270742358079\n",
            "[[ 85  18]\n",
            " [ 25 101]]\n"
          ]
        }
      ],
      "source": [
        "# Utilizamos el estimador logreg para predecir instancias sobre el test set y las almacenamos\n",
        "y_pred = logreg.predict(rescaledX_test)\n",
        "\n",
        "# Obtenemos la puntuación \"accuracy score\"\n",
        "print(\"Accuracy: \", logreg.score(rescaledX_test, y_test))\n",
        "\n",
        "# Mostramos la matriz de confusión del modelo\n",
        "print(confusion_matrix(y_test, y_pred))"
      ]
    },
    {
      "cell_type": "markdown",
      "id": "6a3dbc04",
      "metadata": {
        "id": "6a3dbc04"
      },
      "source": [
        "# Ajustes del Modelo"
      ]
    },
    {
      "cell_type": "code",
      "execution_count": null,
      "id": "000ac210",
      "metadata": {
        "id": "000ac210"
      },
      "outputs": [],
      "source": [
        "# Definimos la grilla de valores para 'tol' y 'max_iter'\n",
        "tol = [0.01, 0.001, 0.0001]\n",
        "max_iter = [100, 150, 200]\n",
        "\n",
        "# Creamos un diccionario con 'tol' y 'max_iter' como claves y las listas anteriores como sus valores\n",
        "param_grid = dict(tol=tol, max_iter=max_iter)"
      ]
    },
    {
      "cell_type": "code",
      "execution_count": null,
      "id": "f0e25c91",
      "metadata": {
        "colab": {
          "base_uri": "https://localhost:8080/"
        },
        "id": "f0e25c91",
        "outputId": "bca79d4e-bba1-4351-c564-2c3da4f27bcf"
      },
      "outputs": [
        {
          "output_type": "stream",
          "name": "stderr",
          "text": [
            "/usr/local/lib/python3.7/dist-packages/sklearn/model_selection/_split.py:680: UserWarning: The least populated class in y has only 1 members, which is less than n_splits=5.\n",
            "  UserWarning,\n"
          ]
        },
        {
          "output_type": "stream",
          "name": "stdout",
          "text": [
            "Puntuación: 0.8512668126368471\n"
          ]
        }
      ],
      "source": [
        "# Instanciamos GridSearchCV con los parámetros requeridos\n",
        "grid_model = GridSearchCV(estimator=logreg, param_grid=param_grid, cv=5)\n",
        "\n",
        "# Utilizamos nuevamente 'scaler' para escalar X\n",
        "rescaledX = scaler.fit_transform(X)\n",
        "\n",
        "# Entrenamos el modelo\n",
        "grid_model_result = grid_model.fit(rescaledX, y)\n",
        "\n",
        "# Obtenemos los valores de los hiperparámetros que mejores resultados arrojan\n",
        "best_score, best_params = grid_model_result.best_score_, grid_model_result.best_params_\n",
        "print(\"Puntuación:\",best_score)"
      ]
    }
  ],
  "metadata": {
    "kernelspec": {
      "display_name": "Python 3 (ipykernel)",
      "language": "python",
      "name": "python3"
    },
    "language_info": {
      "codemirror_mode": {
        "name": "ipython",
        "version": 3
      },
      "file_extension": ".py",
      "mimetype": "text/x-python",
      "name": "python",
      "nbconvert_exporter": "python",
      "pygments_lexer": "ipython3",
      "version": "3.10.5"
    },
    "colab": {
      "name": " H201S5_13SebastianSamaniego.ipynb",
      "provenance": [],
      "collapsed_sections": []
    }
  },
  "nbformat": 4,
  "nbformat_minor": 5
}